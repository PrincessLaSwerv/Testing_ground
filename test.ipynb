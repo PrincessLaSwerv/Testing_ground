{
 "cells": [
  {
   "cell_type": "code",
   "execution_count": null,
   "metadata": {},
   "outputs": [
    {
     "ename": "",
     "evalue": "",
     "output_type": "error",
     "traceback": [
      "\u001b[1;31mRunning cells with 'koda' requires the ipykernel package.\n",
      "\u001b[1;31mRun the following command to install 'ipykernel' into the Python environment. \n",
      "\u001b[1;31mCommand: 'conda install -n koda ipykernel --update-deps --force-reinstall'"
     ]
    }
   ],
   "source": [
    "import sys\n",
    "from PyQt6.QtWidgets import QApplication, QWidget, QVBoxLayout, QHBoxLayout, QPushButton\n",
    "\n",
    "class MyWidget(QWidget):\n",
    "    def __init__(self):\n",
    "        super().__init__()\n",
    "        self.initUI()\n",
    "\n",
    "    def initUI(self):\n",
    "        # Create main layout\n",
    "        main_layout = QVBoxLayout()\n",
    "        self.setLayout(main_layout)\n",
    "\n",
    "        # Create sub-layouts\n",
    "        top_layout = QHBoxLayout()\n",
    "        bottom_layout = QHBoxLayout()\n",
    "\n",
    "        # Create buttons\n",
    "        button1 = QPushButton(\"Button 1\")\n",
    "        button2 = QPushButton(\"Button 2\")\n",
    "        button3 = QPushButton(\"Button 3\")\n",
    "\n",
    "        # Add buttons to top layout\n",
    "        top_layout.addWidget(button1)\n",
    "        top_layout.addWidget(button2)\n",
    "\n",
    "        # Add button3 to bottom layout\n",
    "        bottom_layout.addWidget(button3)\n",
    "\n",
    "        # Add sub-layouts to main layout\n",
    "        main_layout.addLayout(top_layout)\n",
    "        main_layout.addLayout(bottom_layout)\n",
    "\n",
    "        self.setWindowTitle('Layout Example')\n",
    "        self.show()\n",
    "\n",
    "if __name__ == '__main__':\n",
    "    app = QApplication(sys.argv)\n",
    "    ex = MyWidget()\n",
    "    sys.exit(app.exec_())\n"
   ]
  }
 ],
 "metadata": {
  "kernelspec": {
   "display_name": "base",
   "language": "python",
   "name": "python3"
  },
  "language_info": {
   "codemirror_mode": {
    "name": "ipython",
    "version": 3
   },
   "file_extension": ".py",
   "mimetype": "text/x-python",
   "name": "python",
   "nbconvert_exporter": "python",
   "pygments_lexer": "ipython3",
   "version": "3.11.7"
  }
 },
 "nbformat": 4,
 "nbformat_minor": 2
}
